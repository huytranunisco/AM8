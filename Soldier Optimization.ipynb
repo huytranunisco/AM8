{
 "cells": [
  {
   "cell_type": "code",
   "execution_count": 1,
   "id": "aab5a803",
   "metadata": {},
   "outputs": [],
   "source": [
    "import scipy.stats as st\n",
    "import numpy as np"
   ]
  },
  {
   "cell_type": "code",
   "execution_count": 56,
   "id": "d992ac46",
   "metadata": {},
   "outputs": [],
   "source": [
    "boss_p_hp = 5000\n",
    "boss_b_hp = 7500\n",
    "boss_m_hp = 10000\n",
    "p_damage = 50\n",
    "b_damage = 40\n",
    "m_damage = 30"
   ]
  },
  {
   "cell_type": "code",
   "execution_count": 57,
   "id": "9d0ea4a2",
   "metadata": {},
   "outputs": [],
   "source": [
    "from ortools.linear_solver import pywraplp"
   ]
  },
  {
   "cell_type": "code",
   "execution_count": 83,
   "id": "e13c9b25",
   "metadata": {},
   "outputs": [],
   "source": [
    "# Create the mip solver with the SCIP backend.\n",
    "solver = pywraplp.Solver.CreateSolver('SCIP')"
   ]
  },
  {
   "cell_type": "code",
   "execution_count": 84,
   "id": "9df21cb3",
   "metadata": {},
   "outputs": [
    {
     "name": "stdout",
     "output_type": "stream",
     "text": [
      "Number of variables = 3\n"
     ]
    }
   ],
   "source": [
    "infinity = solver.infinity()\n",
    "# x and y are integer non-negative variables.\n",
    "n_p_soldier = solver.IntVar(0.0, infinity, 'piercing soldier')\n",
    "n_b_soldier = solver.IntVar(0.0, infinity, 'blunt soldier')\n",
    "n_m_soldier = solver.IntVar(0.0, infinity, 'magic soldier')\n",
    "\n",
    "print('Number of variables =', solver.NumVariables())"
   ]
  },
  {
   "cell_type": "code",
   "execution_count": 85,
   "id": "79dd01a7",
   "metadata": {},
   "outputs": [
    {
     "data": {
      "text/plain": [
       "<ortools.linear_solver.pywraplp.Constraint; proxy of <Swig Object of type 'operations_research::MPConstraint *' at 0x0000025A9F485DA0> >"
      ]
     },
     "execution_count": 85,
     "metadata": {},
     "output_type": "execute_result"
    }
   ],
   "source": [
    "solver.Add(n_p_soldier *p_damage >= boss_p_hp)\n",
    "#blunt can also damage magic\n",
    "solver.Add(n_m_soldier *m_damage + n_b_soldier *b_damage*1.1 >= boss_m_hp)\n",
    "solver.Add(n_b_soldier *b_damage >= boss_b_hp)"
   ]
  },
  {
   "cell_type": "code",
   "execution_count": 86,
   "id": "1fe0f6f1",
   "metadata": {},
   "outputs": [],
   "source": [
    "# Minimize resource cost\n",
    "solver.Minimize(15*n_p_soldier + 29 * n_b_soldier + 18* n_m_soldier)"
   ]
  },
  {
   "cell_type": "code",
   "execution_count": 87,
   "id": "09328874",
   "metadata": {},
   "outputs": [],
   "source": [
    "status = solver.Solve()"
   ]
  },
  {
   "cell_type": "code",
   "execution_count": 88,
   "id": "8476407c",
   "metadata": {},
   "outputs": [
    {
     "name": "stdout",
     "output_type": "stream",
     "text": [
      "Solution:\n",
      "Objective value = 7996.000000000001\n",
      "piercing soldier count: 100.0\n",
      "magic soldier count: 58.0\n",
      "blunt soldier count: 188.0\n"
     ]
    }
   ],
   "source": [
    "if status == pywraplp.Solver.OPTIMAL:\n",
    "    print('Solution:')\n",
    "    print('Objective value =', solver.Objective().Value())\n",
    "    print('piercing soldier count:', n_p_soldier.solution_value())\n",
    "    print('magic soldier count:', n_m_soldier.solution_value())\n",
    "    print('blunt soldier count:', n_b_soldier.solution_value())\n",
    "else:\n",
    "    print('The problem does not have an optimal solution.')\n",
    "    print('\\nAdvanced usage:')\n",
    "    print('Problem solved in %f milliseconds' % solver.wall_time())\n",
    "    print('Problem solved in %d iterations' % solver.iterations())\n",
    "    print('Problem solved in %d branch-and-bound nodes' % solver.nodes())"
   ]
  },
  {
   "cell_type": "code",
   "execution_count": null,
   "id": "235817bd",
   "metadata": {},
   "outputs": [],
   "source": []
  }
 ],
 "metadata": {
  "kernelspec": {
   "display_name": "Python 3 (ipykernel)",
   "language": "python",
   "name": "python3"
  },
  "language_info": {
   "codemirror_mode": {
    "name": "ipython",
    "version": 3
   },
   "file_extension": ".py",
   "mimetype": "text/x-python",
   "name": "python",
   "nbconvert_exporter": "python",
   "pygments_lexer": "ipython3",
   "version": "3.10.3"
  }
 },
 "nbformat": 4,
 "nbformat_minor": 5
}
