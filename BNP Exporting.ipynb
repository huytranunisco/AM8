{
 "cells": [
  {
   "cell_type": "code",
   "execution_count": 1,
   "id": "37356471",
   "metadata": {},
   "outputs": [],
   "source": [
    "import time\n",
    "from selenium import webdriver\n",
    "from selenium.webdriver.chrome.service import Service\n",
    "from webdriver_manager.chrome import ChromeDriverManager\n",
    "from selenium.webdriver.common.keys import Keys\n",
    "from selenium.webdriver.common.by import By\n",
    "from selenium.webdriver.support.ui import Select\n",
    "from selenium.webdriver.common.action_chains import ActionChains\n",
    "from difflib import SequenceMatcher"
   ]
  },
  {
   "cell_type": "code",
   "execution_count": 2,
   "id": "a2f40708",
   "metadata": {},
   "outputs": [],
   "source": [
    "categoryList = ['STORAGE', 'HANDLING', 'ACCESSORIAL']\n",
    "facilityList = ['804- GARDEN CITY', '825-NORTHAMPTON','Alessandro','BolingBrook','Charleston','COPPELL','COR1','Fontana','FOREST','GARDENA','GOODYEAR','GOURGAR','Grand Prairie','GREENWOOD','Hayward','Hazelton','Houston','Indiana','Innovation','Joliet','Kansas','KENT','Lakewood','Marlay','Morgan Lakes','Murphy','NAVIGATION','New Jersey','Ontario','QUA','Quality-4400','Red Bluff','Reverse Service','Reyes','ROANOKE','Sacramento','Savannah','Seabrook','TACOMA','TOLLESON','Tucker','Turnbull','Valley','Valley View','Valley View B','Valley View C','Via Baron','WALB','Walnut','Willow']"
   ]
  },
  {
   "cell_type": "code",
   "execution_count": 3,
   "id": "6ee7b964",
   "metadata": {},
   "outputs": [],
   "source": [
    "def facilityMatcher(givenF):\n",
    "    highestratio = 0\n",
    "    facName = ''\n",
    "    while (True):\n",
    "        for f in facilityList:\n",
    "            ratio = SequenceMatcher(None, f, givenF).ratio()\n",
    "            if ratio > highestratio:\n",
    "                highestratio = ratio\n",
    "                facName = f\n",
    "        if highestratio < 0.5:\n",
    "            givenF = input(\"Input new Facility name:\")\n",
    "        else:\n",
    "            return facName"
   ]
  },
  {
   "cell_type": "code",
   "execution_count": 4,
   "id": "62537f71",
   "metadata": {},
   "outputs": [],
   "source": [
    "billTo = input(\"Billing To:\")\n",
    "facility = input(\"Facility:\")\n",
    "facility = facilityMatcher(facility)\n",
    "periodStart = input(\"Period Start:\")\n",
    "periodEnd = input(\"Period End:\")"
   ]
  },
  {
   "cell_type": "code",
   "execution_count": 5,
   "id": "19e11d51",
   "metadata": {},
   "outputs": [],
   "source": [
    "#Getting BNP\n",
    "driver = webdriver.Chrome(service=Service(ChromeDriverManager().install()))\n",
    "actions = ActionChains(driver)\n",
    "driver.get(\"http://bnp.unisco.com/\")\n",
    "original_window = driver.current_window_handle\n",
    "assert len(driver.window_handles) == 1"
   ]
  },
  {
   "cell_type": "code",
   "execution_count": 6,
   "id": "028cbaa9",
   "metadata": {},
   "outputs": [],
   "source": [
    "#Logging into BNP\n",
    "interactor = driver.find_element(By.ID,\"inputUserName\")\n",
    "interactor.send_keys(\"kevinnguyen\")\n",
    "interactor = driver.find_element(By.ID,\"inputPassword\")\n",
    "interactor.send_keys(\"kevinn\")\n",
    "interactor = driver.find_element(By.XPATH,\"/html/body/div/footer/div/button\")\n",
    "interactor.click()"
   ]
  },
  {
   "cell_type": "code",
   "execution_count": 7,
   "id": "7ec14689",
   "metadata": {},
   "outputs": [],
   "source": [
    "#Clicking Sales Module from Module Dropdown Menu\n",
    "select = driver.find_element(By.ID, 'TS_span_menu')\n",
    "select.click()\n",
    "time.sleep(0.5)\n",
    "select = driver.find_element(By.XPATH, '//*[@id=\"headmenu_mn_active\"]/div/ul/li[1]')\n",
    "select.click()"
   ]
  },
  {
   "cell_type": "code",
   "execution_count": 8,
   "id": "73e8db58",
   "metadata": {},
   "outputs": [],
   "source": [
    "#Clicking Invoice Management from Invoice Dropdown Menu\n",
    "select = driver.find_element(By.XPATH, '//*[@id=\"headmenu\"]/li[3]/span')\n",
    "select.click()\n",
    "time.sleep(0.5)\n",
    "select = driver.find_element(By.XPATH, '//*[@id=\"headmenu_mn_active\"]/div/ul/li[1]')\n",
    "select.click()"
   ]
  },
  {
   "cell_type": "code",
   "execution_count": 9,
   "id": "229a3881",
   "metadata": {},
   "outputs": [],
   "source": [
    "#Inputting information on the Invoice Management Page and Searching\n",
    "\n",
    "#Bill To\n",
    "interactor = driver.find_element(By.XPATH, '//*[@id=\"sitecontent\"]/div[2]/div[1]/div[6]/span/span/input')\n",
    "interactor.send_keys(billTo)\n",
    "time.sleep(0.5)\n",
    "interactor.send_keys(Keys.ENTER)\n",
    "\n",
    "#Facility\n",
    "select = Select(driver.find_element(By.ID, 'ddlFacility'))\n",
    "select.select_by_visible_text(facility)\n",
    "\n",
    "#Invoice Status\n",
    "interactor = driver.find_element(By.XPATH, '//*[@id=\"sitecontent\"]/div[2]/div[2]/div[5]/div/div/input')\n",
    "interactor.send_keys('Check')\n",
    "time.sleep(0.5)\n",
    "interactor.send_keys(Keys.ENTER)\n",
    "\n",
    "#Period Start\n",
    "interactor = driver.find_element(By.ID, 'inputPeriodStart')\n",
    "interactor.send_keys(periodStart)\n",
    "\n",
    "#Period End\n",
    "interactor = driver.find_element(By.ID, 'inputPeriodEnd')\n",
    "interactor.send_keys(periodEnd)\n",
    "\n",
    "#Clicking Search\n",
    "interactor = driver.find_element(By.XPATH, '//*[@id=\"sitecontent\"]/div[2]/div[3]/div[11]/button')\n",
    "interactor.click()"
   ]
  },
  {
   "cell_type": "code",
   "execution_count": 10,
   "id": "22a98408",
   "metadata": {},
   "outputs": [],
   "source": [
    "#Expanding Table to 50 items per page\n",
    "interactor = driver.find_element(By.XPATH, '//*[@id=\"invoicegrid\"]/div[4]/span[1]/span/span/span[1]')\n",
    "interactor.click()\n",
    "time.sleep(0.5)\n",
    "interactor = driver.find_element(By.XPATH, '/html/body/div[25]/div/div[2]/ul/li[3]')\n",
    "interactor.click()\n",
    "\n",
    "time.sleep(0.5)\n",
    "table = driver.find_element(By.XPATH,'//*[@id=\"invoicegrid\"]/div[3]/table')\n",
    "showTable = table.is_displayed\n",
    "if showTable:\n",
    "    rows = table.find_elements(By.TAG_NAME,\"tr\")\n",
    "    \n",
    "rowsList = []\n",
    "for count, row in enumerate(rows):\n",
    "    col = row.find_elements(By.TAG_NAME, \"td\")\n",
    "    for cat in categoryList:\n",
    "        if(cat in col[5].text):\n",
    "            rowsList.append(count)\n",
    "            break\n",
    "\n",
    "for index in range(len(rowsList) - 1, -1, -1):\n",
    "    num = str(rowsList[index] + 1)\n",
    "    interactor = driver.find_element(By.XPATH, '//*[@id=\"invoicegrid\"]/div[3]/table/tbody/tr[' + num +']/td[1]/label')\n",
    "    actions.move_to_element(interactor).perform()\n",
    "    interactor.click()\n",
    "\n",
    "interactor = driver.find_element(By.XPATH, '//*[@id=\"btnExportInvoiceDetail\"]')\n",
    "interactor.click()"
   ]
  },
  {
   "cell_type": "code",
   "execution_count": null,
   "id": "d69e081f",
   "metadata": {},
   "outputs": [],
   "source": []
  }
 ],
 "metadata": {
  "kernelspec": {
   "display_name": "Python 3.7.9 64-bit",
   "language": "python",
   "name": "python3"
  },
  "language_info": {
   "codemirror_mode": {
    "name": "ipython",
    "version": 3
   },
   "file_extension": ".py",
   "mimetype": "text/x-python",
   "name": "python",
   "nbconvert_exporter": "python",
   "pygments_lexer": "ipython3",
   "version": "3.7.9"
  },
  "vscode": {
   "interpreter": {
    "hash": "1414829d828626f7af213cd6bf152f0851602ccef7e736e91368d98c6d694cd5"
   }
  }
 },
 "nbformat": 4,
 "nbformat_minor": 5
}
