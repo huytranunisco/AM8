{
 "cells": [
  {
   "cell_type": "code",
   "execution_count": 1,
   "id": "55367309",
   "metadata": {},
   "outputs": [],
   "source": [
    "import requests as curl"
   ]
  },
  {
   "cell_type": "code",
   "execution_count": 2,
   "id": "5244d32c",
   "metadata": {},
   "outputs": [],
   "source": [
    "auth_link ='https://wise.logisticsteam.com/v2/shared/bam/v1/public/user/login'"
   ]
  },
  {
   "cell_type": "code",
   "execution_count": 4,
   "id": "92fc31cb",
   "metadata": {},
   "outputs": [
    {
     "data": {
      "text/plain": [
       "<Response [400]>"
      ]
     },
     "execution_count": 4,
     "metadata": {},
     "output_type": "execute_result"
    }
   ],
   "source": [
    "curl.post(auth_link,\n",
    "          headers = {\n",
    "              'Content-type':'application/json'\n",
    "          }, \n",
    "          data = {\n",
    "              'username':'htran',\n",
    "              'password':'hrp206'\n",
    "          }\n",
    "         )"
   ]
  },
  {
   "cell_type": "code",
   "execution_count": 2,
   "id": "d8a7b083",
   "metadata": {},
   "outputs": [],
   "source": [
    "link1 ='https://wise.logisticsteam.com/v2/'\n",
    "link2 = '/report-center/activity/activity-reportv2'\n",
    "facility ='valleyview'"
   ]
  },
  {
   "cell_type": "code",
   "execution_count": 22,
   "id": "a339f0fc",
   "metadata": {},
   "outputs": [],
   "source": [
    "headers = {'authorization':'094c7f6b-d8a5-4d62-a40c-dfe4854516b3',\n",
    "           'wise-company-id':'ORG-1',\n",
    "           'wise-facility-id':'F1',\n",
    "           'Content-Type':'application/json'\n",
    "          }"
   ]
  },
  {
   "cell_type": "code",
   "execution_count": 23,
   "id": "5ede526f",
   "metadata": {},
   "outputs": [],
   "source": [
    "raw = {\"customerId\":\"ORG-34557\",\n",
    "       \"titleId\":\"null\",\n",
    "       \"timeFrom\":\"2022-06-28T00:00:00\",\n",
    "       \"timeTo\":\"2022-07-05T23:59:59\",\n",
    "       \"getApiData\":'true',\n",
    "       \"apiType\":\"OrderAndReceiptDetail\"}"
   ]
  },
  {
   "cell_type": "code",
   "execution_count": 24,
   "id": "20dc5f43",
   "metadata": {},
   "outputs": [
    {
     "data": {
      "text/plain": [
       "<Response [401]>"
      ]
     },
     "execution_count": 24,
     "metadata": {},
     "output_type": "execute_result"
    }
   ],
   "source": [
    "curl.post(link1+facility+link2,headers = headers,data = raw\n",
    "         )"
   ]
  },
  {
   "cell_type": "code",
   "execution_count": 21,
   "id": "2e49cb55",
   "metadata": {},
   "outputs": [
    {
     "ename": "AttributeError",
     "evalue": "'function' object has no attribute 'header'",
     "output_type": "error",
     "traceback": [
      "\u001b[1;31m---------------------------------------------------------------------------\u001b[0m",
      "\u001b[1;31mAttributeError\u001b[0m                            Traceback (most recent call last)",
      "Input \u001b[1;32mIn [21]\u001b[0m, in \u001b[0;36m<cell line: 1>\u001b[1;34m()\u001b[0m\n\u001b[1;32m----> 1\u001b[0m \u001b[43mcurl\u001b[49m\u001b[38;5;241;43m.\u001b[39;49m\u001b[43mpost\u001b[49m\u001b[38;5;241;43m.\u001b[39;49m\u001b[43mheader\u001b[49m\n",
      "\u001b[1;31mAttributeError\u001b[0m: 'function' object has no attribute 'header'"
     ]
    }
   ],
   "source": [
    "T"
   ]
  },
  {
   "cell_type": "code",
   "execution_count": 25,
   "id": "3a84ca4e",
   "metadata": {},
   "outputs": [
    {
     "data": {
      "text/plain": [
       "'https://wise.logisticsteam.com/v2/valleyview/report-center/activity/activity-reportv2'"
      ]
     },
     "execution_count": 25,
     "metadata": {},
     "output_type": "execute_result"
    }
   ],
   "source": [
    "link1+facility+link2"
   ]
  },
  {
   "cell_type": "code",
   "execution_count": null,
   "id": "3176ca49",
   "metadata": {},
   "outputs": [],
   "source": []
  }
 ],
 "metadata": {
  "kernelspec": {
   "display_name": "Python 3 (ipykernel)",
   "language": "python",
   "name": "python3"
  },
  "language_info": {
   "codemirror_mode": {
    "name": "ipython",
    "version": 3
   },
   "file_extension": ".py",
   "mimetype": "text/x-python",
   "name": "python",
   "nbconvert_exporter": "python",
   "pygments_lexer": "ipython3",
   "version": "3.10.3"
  }
 },
 "nbformat": 4,
 "nbformat_minor": 5
}
