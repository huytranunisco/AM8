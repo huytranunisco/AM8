{
 "cells": [
  {
   "cell_type": "code",
   "execution_count": 60,
   "metadata": {},
   "outputs": [],
   "source": [
    "import pandas as pd\n",
    "import numpy as np"
   ]
  },
  {
   "cell_type": "code",
   "execution_count": null,
   "metadata": {},
   "outputs": [],
   "source": []
  },
  {
   "cell_type": "code",
   "execution_count": 61,
   "metadata": {},
   "outputs": [
    {
     "name": "stdout",
     "output_type": "stream",
     "text": [
      "['handling pick per pallet', 'handling pick per case, weightrangepercase,0 - 30;', 'handling order processing per order, ordertype,rg;outbound shipmethod,ltl;', 'handling pick per piece, weightrangepereach,over 30;', 'materials & other charges-pallet charge grade b', 'materials & other charges-stretch wrap', 'storage income initial storage per pallet, locationtype,1 high;palletsize,none;', 'hourly labor $ / hour', 'slip sheet', 'customized shipping documents', 'recurring storage']\n"
     ]
    }
   ],
   "source": [
    "fileLoc = r\"C:\\\\Users\\\\kevin\\\\Documents\\\\AUTOM8\\\\Nutribins\\\\NutribinsLLC-Joliet-Bimonthly.xlsx\"\n",
    "report = pd.read_excel(io=fileLoc)\n",
    "rows = report['Description'].tolist()\n",
    "for count, name in enumerate(rows):\n",
    "    rows[count] = name.lower()\n",
    "\n",
    "print(rows)\n",
    "\n",
    "def nameMatch(name):\n",
    "    for count in range(len(rows)):\n",
    "        if rows[count] == name.lower():\n",
    "            return count"
   ]
  },
  {
   "cell_type": "code",
   "execution_count": 62,
   "metadata": {},
   "outputs": [
    {
     "name": "stderr",
     "output_type": "stream",
     "text": [
      "c:\\Users\\kevin\\AppData\\Local\\Programs\\Python\\Python37-32\\lib\\site-packages\\ipykernel_launcher.py:7: SettingWithCopyWarning: \n",
      "A value is trying to be set on a copy of a slice from a DataFrame\n",
      "\n",
      "See the caveats in the documentation: https://pandas.pydata.org/pandas-docs/stable/user_guide/indexing.html#returning-a-view-versus-a-copy\n",
      "  import sys\n"
     ]
    }
   ],
   "source": [
    "# Handling Pick per Pallet\n",
    "df = pd.read_excel(io=fileLoc, sheet_name='Pick Task')\n",
    "sum = df['PALLETPICKQTY'].sum()\n",
    "\n",
    "index = nameMatch('Handling Pick per Pallet')\n",
    "\n",
    "report['WISE Qty'][index] = sum"
   ]
  },
  {
   "cell_type": "code",
   "execution_count": 63,
   "metadata": {},
   "outputs": [
    {
     "name": "stderr",
     "output_type": "stream",
     "text": [
      "c:\\Users\\kevin\\AppData\\Local\\Programs\\Python\\Python37-32\\lib\\site-packages\\ipykernel_launcher.py:7: SettingWithCopyWarning: \n",
      "A value is trying to be set on a copy of a slice from a DataFrame\n",
      "\n",
      "See the caveats in the documentation: https://pandas.pydata.org/pandas-docs/stable/user_guide/indexing.html#returning-a-view-versus-a-copy\n",
      "  import sys\n"
     ]
    }
   ],
   "source": [
    "# Handling Pick per Case, WeightRangePerCase,0 - 30;\n",
    "df = pd.read_excel(io=fileLoc, sheet_name='Pick Task')\n",
    "df2 = df[(df['INDIVIDUAL ITEM WGT'] >= 0) & (df['INDIVIDUAL ITEM WGT'] <= 30)]\n",
    "sum = df2['CASEPICKQTY'].sum()\n",
    "\n",
    "index = nameMatch('Handling Pick per Case, WeightRangePerCase,0 - 30;')\n",
    "report['WISE Qty'][index] = sum"
   ]
  },
  {
   "cell_type": "code",
   "execution_count": 64,
   "metadata": {},
   "outputs": [
    {
     "name": "stderr",
     "output_type": "stream",
     "text": [
      "c:\\Users\\kevin\\AppData\\Local\\Programs\\Python\\Python37-32\\lib\\site-packages\\ipykernel_launcher.py:8: SettingWithCopyWarning: \n",
      "A value is trying to be set on a copy of a slice from a DataFrame\n",
      "\n",
      "See the caveats in the documentation: https://pandas.pydata.org/pandas-docs/stable/user_guide/indexing.html#returning-a-view-versus-a-copy\n",
      "  \n"
     ]
    }
   ],
   "source": [
    "# handling order processing per order, ordertype,rg;outbound shipmethod,ltl;\n",
    "df = pd.read_excel(io=fileLoc, sheet_name='Order & Receipt')\n",
    "df2 = df[df['Ship Method'].isin(['LTL'])]\n",
    "df2 = df2[df2['RN/DN'].str.contains('DN', case=False, na=False)]\n",
    "count = df2['RN/DN'].count()\n",
    "\n",
    "index = nameMatch('handling order processing per order, ordertype,rg;outbound shipmethod,ltl;')\n",
    "report['WISE Qty'][index] = count"
   ]
  },
  {
   "cell_type": "code",
   "execution_count": 65,
   "metadata": {},
   "outputs": [
    {
     "name": "stdout",
     "output_type": "stream",
     "text": [
      "10\n"
     ]
    },
    {
     "name": "stderr",
     "output_type": "stream",
     "text": [
      "c:\\Users\\kevin\\AppData\\Local\\Programs\\Python\\Python37-32\\lib\\site-packages\\ipykernel_launcher.py:7: SettingWithCopyWarning: \n",
      "A value is trying to be set on a copy of a slice from a DataFrame\n",
      "\n",
      "See the caveats in the documentation: https://pandas.pydata.org/pandas-docs/stable/user_guide/indexing.html#returning-a-view-versus-a-copy\n",
      "  import sys\n"
     ]
    }
   ],
   "source": [
    "# handling pick per piece, weightrangepereach,over 30;\n",
    "df = pd.read_excel(io=fileLoc, sheet_name='Pick Task')\n",
    "df2 = df[df['INDIVIDUAL ITEM WGT'] > 30]\n",
    "sum = df2['PIECEPICKQTY'].sum()\n",
    "\n",
    "index = nameMatch('Handling Pick per Case, WeightRangePerCase,0 - 30;')\n",
    "report['WISE Qty'][index] = sum"
   ]
  },
  {
   "cell_type": "code",
   "execution_count": 66,
   "metadata": {},
   "outputs": [
    {
     "name": "stderr",
     "output_type": "stream",
     "text": [
      "c:\\Users\\kevin\\AppData\\Local\\Programs\\Python\\Python37-32\\lib\\site-packages\\ipykernel_launcher.py:7: SettingWithCopyWarning: \n",
      "A value is trying to be set on a copy of a slice from a DataFrame\n",
      "\n",
      "See the caveats in the documentation: https://pandas.pydata.org/pandas-docs/stable/user_guide/indexing.html#returning-a-view-versus-a-copy\n",
      "  import sys\n"
     ]
    }
   ],
   "source": [
    "# materials & other charges-pallet charge grade b\n",
    "df = pd.read_excel(io=fileLoc, sheet_name='Materials')\n",
    "df2 = df[df['ITEM DESCRIPTION'].str.contains('grade b', case=False, na=False)]\n",
    "sum = df2['QTY'].sum()\n",
    "\n",
    "index = nameMatch('materials & other charges-pallet charge grade b')\n",
    "report['WISE Qty'][index] = sum"
   ]
  },
  {
   "cell_type": "code",
   "execution_count": 67,
   "metadata": {},
   "outputs": [
    {
     "name": "stderr",
     "output_type": "stream",
     "text": [
      "c:\\Users\\kevin\\AppData\\Local\\Programs\\Python\\Python37-32\\lib\\site-packages\\ipykernel_launcher.py:7: SettingWithCopyWarning: \n",
      "A value is trying to be set on a copy of a slice from a DataFrame\n",
      "\n",
      "See the caveats in the documentation: https://pandas.pydata.org/pandas-docs/stable/user_guide/indexing.html#returning-a-view-versus-a-copy\n",
      "  import sys\n"
     ]
    }
   ],
   "source": [
    "# materials & other charges-stretch wrap\n",
    "df = pd.read_excel(io=fileLoc, sheet_name='Materials')\n",
    "df2 = df[df['ITEM DESCRIPTION'].str.contains('stretch wrap', case=False, na=False)]\n",
    "sum = df2['QTY'].sum()\n",
    "\n",
    "index = nameMatch('materials & other charges-pallet charge grade b')\n",
    "report['WISE Qty'][index] = sum"
   ]
  },
  {
   "cell_type": "code",
   "execution_count": null,
   "metadata": {},
   "outputs": [],
   "source": [
    "# storage income initial storage per pallet, locationtype,1 high;palletsize,none;\n",
    "df = pd.read_excel(io=fileLoc, sheet_name='Receive Task')\n",
    "sum = df['PALLET QTY'].sum()\n",
    "\n",
    "index = nameMatch('storage income initial storage per pallet, locationtype,1 high;palletsize,none;')\n",
    "report['WISE Qty'][index] = sum"
   ]
  }
 ],
 "metadata": {
  "kernelspec": {
   "display_name": "Python 3.7.9 32-bit",
   "language": "python",
   "name": "python3"
  },
  "language_info": {
   "codemirror_mode": {
    "name": "ipython",
    "version": 3
   },
   "file_extension": ".py",
   "mimetype": "text/x-python",
   "name": "python",
   "nbconvert_exporter": "python",
   "pygments_lexer": "ipython3",
   "version": "3.7.9"
  },
  "orig_nbformat": 4,
  "vscode": {
   "interpreter": {
    "hash": "c2d51cc5b3a75574d7fda1d537f2edd8699c1c88734b242975fe430a8f9439c2"
   }
  }
 },
 "nbformat": 4,
 "nbformat_minor": 2
}
