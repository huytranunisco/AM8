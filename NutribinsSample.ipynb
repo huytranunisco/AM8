{
 "cells": [
  {
   "cell_type": "code",
   "execution_count": 1,
   "metadata": {},
   "outputs": [],
   "source": [
    "import pandas as pd\n",
    "import numpy as np"
   ]
  },
  {
   "cell_type": "code",
   "execution_count": null,
   "metadata": {},
   "outputs": [],
   "source": []
  },
  {
   "cell_type": "code",
   "execution_count": 7,
   "metadata": {},
   "outputs": [
    {
     "name": "stdout",
     "output_type": "stream",
     "text": [
      "['handling pick per pallet', 'handling pick per case, weightrangepercase,0 - 30;', 'handling order processing per order, ordertype,rg;outbound shipmethod,ltl;', 'handling pick per piece, weightrangepereach,over 30;', 'materials & other charges-pallet charge grade b', 'materials & other charges-stretch wrap', 'storage income initial storage per pallet, locationtype,1 high;palletsize,none;', 'hourly labor $ / hour', 'slip sheet', 'customized shipping documents', 'recurring storage']\n"
     ]
    }
   ],
   "source": [
    "reportLoc = r\"C:\\\\Users\\\\kevin\\\\Desktop\\\\NutribinsLLC-Joliet-Bimonthly.xlsx\"\n",
    "activityLoc = r\"C:\\\\Users\\\\kevin\\\\Desktop\\\\activityReoport(Nutribins LLC - 2022-08-01 - 2022-08-15).xlsx\"\n",
    "\n",
    "writer = pd.ExcelWriter(reportLoc, engine = 'xlsxwriter')\n",
    "\n",
    "report = pd.read_excel(reportLoc)\n",
    "rows = report['Description'].tolist()\n",
    "for count, name in enumerate(rows):\n",
    "    rows[count] = name.lower()\n",
    "\n",
    "print(rows)\n",
    "\n",
    "def nameMatch(name):\n",
    "    for count in range(len(rows)):\n",
    "        if rows[count] == name.lower():\n",
    "            return count\n",
    "\n",
    "def dataCopy(dataframe, sheetName):\n",
    "    if sheetName in writer.sheets:\n",
    "        dataframe.to_excel(writer, startrow = writer.sheets[sheetName].max_row, index = False, header = False)\n",
    "    else:\n",
    "        dataframe.to_excel(writer, sheet_name = sheetName, index = False)\n",
    "\n",
    "    writer.save()"
   ]
  },
  {
   "cell_type": "code",
   "execution_count": 8,
   "metadata": {},
   "outputs": [
    {
     "name": "stderr",
     "output_type": "stream",
     "text": [
      "C:\\Users\\kevin\\AppData\\Local\\Temp\\ipykernel_5568\\1293335447.py:7: SettingWithCopyWarning: \n",
      "A value is trying to be set on a copy of a slice from a DataFrame\n",
      "\n",
      "See the caveats in the documentation: https://pandas.pydata.org/pandas-docs/stable/user_guide/indexing.html#returning-a-view-versus-a-copy\n",
      "  report['WISE Qty'][index] = sum\n",
      "c:\\Users\\kevin\\AppData\\Local\\Programs\\Python\\Python38-32\\lib\\site-packages\\xlsxwriter\\workbook.py:339: UserWarning: Calling close() on already closed file.\n",
      "  warn(\"Calling close() on already closed file.\")\n"
     ]
    }
   ],
   "source": [
    "# Handling Pick per Pallet\n",
    "df = pd.read_excel(io=activityLoc, sheet_name='Pick Task')\n",
    "sum = df['PALLETPICKQTY'].sum()\n",
    "\n",
    "index = nameMatch('Handling Pick per Pallet')\n",
    "\n",
    "report['WISE Qty'][index] = sum\n",
    "dataCopy(df, reportLoc, 'PALLET PICK')"
   ]
  },
  {
   "cell_type": "code",
   "execution_count": 9,
   "metadata": {},
   "outputs": [
    {
     "name": "stderr",
     "output_type": "stream",
     "text": [
      "C:\\Users\\kevin\\AppData\\Local\\Temp\\ipykernel_5568\\1588145200.py:8: SettingWithCopyWarning: \n",
      "A value is trying to be set on a copy of a slice from a DataFrame\n",
      "\n",
      "See the caveats in the documentation: https://pandas.pydata.org/pandas-docs/stable/user_guide/indexing.html#returning-a-view-versus-a-copy\n",
      "  report['WISE Qty'][index] = sum\n"
     ]
    }
   ],
   "source": [
    "# Handling Pick per Case, WeightRangePerCase,0 - 30;\n",
    "df = pd.read_excel(io=activityLoc, sheet_name='Pick Task')\n",
    "df2 = df[(df['INDIVIDUAL ITEM WGT'] >= 0) & (df['INDIVIDUAL ITEM WGT'] <= 30)]\n",
    "sum = df2['CASEPICKQTY'].sum()\n",
    "\n",
    "index = nameMatch('Handling Pick per Case, WeightRangePerCase,0 - 30;')\n",
    "\n",
    "report['WISE Qty'][index] = sum\n",
    "dataCopy(df2, reportLoc, 'HANDLING PICK PER CASE 0-30')"
   ]
  },
  {
   "cell_type": "code",
   "execution_count": null,
   "metadata": {},
   "outputs": [],
   "source": [
    "# handling order processing per order, ordertype,rg;outbound shipmethod,ltl;\n",
    "df = pd.read_excel(io=activityLoc, sheet_name='Order & Receipt')\n",
    "df2 = df[df['Ship Method'].isin(['LTL'])]\n",
    "df2 = df2[df2['RN/DN'].str.contains('DN', case=False, na=False)]\n",
    "count = df2['RN/DN'].count()\n",
    "\n",
    "index = nameMatch('handling order processing per order, ordertype,rg;outbound shipmethod,ltl;')\n",
    "report['WISE Qty'][index] = count"
   ]
  },
  {
   "cell_type": "code",
   "execution_count": null,
   "metadata": {},
   "outputs": [],
   "source": [
    "# handling pick per piece, weightrangepereach,over 30;\n",
    "df = pd.read_excel(io=activityLoc, sheet_name='Pick Task')\n",
    "df2 = df[df['INDIVIDUAL ITEM WGT'] > 30]\n",
    "sum = df2['PIECEPICKQTY'].sum()\n",
    "\n",
    "index = nameMatch('Handling Pick per Case, WeightRangePerCase,0 - 30;')\n",
    "report['WISE Qty'][index] = sum"
   ]
  },
  {
   "cell_type": "code",
   "execution_count": null,
   "metadata": {},
   "outputs": [],
   "source": [
    "# materials & other charges-pallet charge grade b\n",
    "df = pd.read_excel(io=activityLoc, sheet_name='Materials')\n",
    "df2 = df[df['ITEM DESCRIPTION'].str.contains('grade b', case=False, na=False)]\n",
    "sum = df2['QTY'].sum()\n",
    "\n",
    "index = nameMatch('materials & other charges-pallet charge grade b')\n",
    "report['WISE Qty'][index] = sum"
   ]
  },
  {
   "cell_type": "code",
   "execution_count": null,
   "metadata": {},
   "outputs": [],
   "source": [
    "# materials & other charges-stretch wrap\n",
    "df = pd.read_excel(io=activityLoc, sheet_name='Materials')\n",
    "df2 = df[df['ITEM DESCRIPTION'].str.contains('stretch wrap', case=False, na=False)]\n",
    "sum = df2['QTY'].sum()\n",
    "\n",
    "index = nameMatch('materials & other charges-pallet charge grade b')\n",
    "report['WISE Qty'][index] = sum"
   ]
  },
  {
   "cell_type": "code",
   "execution_count": null,
   "metadata": {},
   "outputs": [],
   "source": [
    "# storage income initial storage per pallet, locationtype,1 high;palletsize,none;\n",
    "df = pd.read_excel(io=activityLoc, sheet_name='Receive Task')\n",
    "sum = df['PALLET QTY'].sum()\n",
    "\n",
    "index = nameMatch('storage income initial storage per pallet, locationtype,1 high;palletsize,none;')\n",
    "report['WISE Qty'][index] = sum"
   ]
  }
 ],
 "metadata": {
  "interpreter": {
   "hash": "1d03afc445b1606cc3449d2018ab9f89a0c830c5a6debaae03701807a24653b7"
  },
  "kernelspec": {
   "display_name": "Python 3.8.5 32-bit",
   "language": "python",
   "name": "python3"
  },
  "language_info": {
   "codemirror_mode": {
    "name": "ipython",
    "version": 3
   },
   "file_extension": ".py",
   "mimetype": "text/x-python",
   "name": "python",
   "nbconvert_exporter": "python",
   "pygments_lexer": "ipython3",
   "version": "3.8.5"
  },
  "orig_nbformat": 4,
  "vscode": {
   "interpreter": {
    "hash": "c2d51cc5b3a75574d7fda1d537f2edd8699c1c88734b242975fe430a8f9439c2"
   }
  }
 },
 "nbformat": 4,
 "nbformat_minor": 2
}
