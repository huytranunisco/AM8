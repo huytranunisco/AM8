{
 "cells": [
  {
   "cell_type": "code",
   "execution_count": null,
   "metadata": {},
   "outputs": [],
   "source": [
    "import pandas as pd\n",
    "import numpy as np"
   ]
  },
  {
   "cell_type": "code",
   "execution_count": null,
   "metadata": {},
   "outputs": [],
   "source": []
  },
  {
   "cell_type": "code",
   "execution_count": 13,
   "metadata": {},
   "outputs": [
    {
     "ename": "ValueError",
     "evalue": "Excel file format cannot be determined, you must specify an engine manually.",
     "output_type": "error",
     "traceback": [
      "\u001b[1;31m---------------------------------------------------------------------------\u001b[0m",
      "\u001b[1;31mValueError\u001b[0m                                Traceback (most recent call last)",
      "\u001b[1;32mc:\\Users\\kevin\\OneDrive\\Documents\\GitHub\\AM8\\NutribinsSample.ipynb Cell 3'\u001b[0m in \u001b[0;36m<cell line: 4>\u001b[1;34m()\u001b[0m\n\u001b[0;32m      <a href='vscode-notebook-cell:/c%3A/Users/kevin/OneDrive/Documents/GitHub/AM8/NutribinsSample.ipynb#W2sZmlsZQ%3D%3D?line=0'>1</a>\u001b[0m reportLoc \u001b[39m=\u001b[39m \u001b[39mr\u001b[39m\u001b[39m\"\u001b[39m\u001b[39mC:\u001b[39m\u001b[39m\\\\\u001b[39;00m\u001b[39mUsers\u001b[39m\u001b[39m\\\\\u001b[39;00m\u001b[39mkevin\u001b[39m\u001b[39m\\\\\u001b[39;00m\u001b[39mDesktop\u001b[39m\u001b[39m\\\\\u001b[39;00m\u001b[39mNutribinsLLC-Joliet-Bimonthly.xlsx\u001b[39m\u001b[39m\"\u001b[39m\n\u001b[0;32m      <a href='vscode-notebook-cell:/c%3A/Users/kevin/OneDrive/Documents/GitHub/AM8/NutribinsSample.ipynb#W2sZmlsZQ%3D%3D?line=1'>2</a>\u001b[0m activityLoc \u001b[39m=\u001b[39m \u001b[39mr\u001b[39m\u001b[39m\"\u001b[39m\u001b[39mC:\u001b[39m\u001b[39m\\\\\u001b[39;00m\u001b[39mUsers\u001b[39m\u001b[39m\\\\\u001b[39;00m\u001b[39mkevin\u001b[39m\u001b[39m\\\\\u001b[39;00m\u001b[39mDesktop\u001b[39m\u001b[39m\\\\\u001b[39;00m\u001b[39mactivityReoport(Nutribins LLC - 2022-08-01 - 2022-08-15).xlsx\u001b[39m\u001b[39m\"\u001b[39m\n\u001b[1;32m----> <a href='vscode-notebook-cell:/c%3A/Users/kevin/OneDrive/Documents/GitHub/AM8/NutribinsSample.ipynb#W2sZmlsZQ%3D%3D?line=3'>4</a>\u001b[0m dReport \u001b[39m=\u001b[39m pd\u001b[39m.\u001b[39;49mread_excel(reportLoc)\n\u001b[0;32m      <a href='vscode-notebook-cell:/c%3A/Users/kevin/OneDrive/Documents/GitHub/AM8/NutribinsSample.ipynb#W2sZmlsZQ%3D%3D?line=4'>5</a>\u001b[0m rows \u001b[39m=\u001b[39m dReport[\u001b[39m'\u001b[39m\u001b[39mDescription\u001b[39m\u001b[39m'\u001b[39m]\u001b[39m.\u001b[39mtolist()\n\u001b[0;32m      <a href='vscode-notebook-cell:/c%3A/Users/kevin/OneDrive/Documents/GitHub/AM8/NutribinsSample.ipynb#W2sZmlsZQ%3D%3D?line=5'>6</a>\u001b[0m \u001b[39mfor\u001b[39;00m count, name \u001b[39min\u001b[39;00m \u001b[39menumerate\u001b[39m(rows):\n",
      "File \u001b[1;32mc:\\Users\\kevin\\AppData\\Local\\Programs\\Python\\Python38-32\\lib\\site-packages\\pandas\\util\\_decorators.py:311\u001b[0m, in \u001b[0;36mdeprecate_nonkeyword_arguments.<locals>.decorate.<locals>.wrapper\u001b[1;34m(*args, **kwargs)\u001b[0m\n\u001b[0;32m    <a href='file:///c%3A/Users/kevin/AppData/Local/Programs/Python/Python38-32/lib/site-packages/pandas/util/_decorators.py?line=304'>305</a>\u001b[0m \u001b[39mif\u001b[39;00m \u001b[39mlen\u001b[39m(args) \u001b[39m>\u001b[39m num_allow_args:\n\u001b[0;32m    <a href='file:///c%3A/Users/kevin/AppData/Local/Programs/Python/Python38-32/lib/site-packages/pandas/util/_decorators.py?line=305'>306</a>\u001b[0m     warnings\u001b[39m.\u001b[39mwarn(\n\u001b[0;32m    <a href='file:///c%3A/Users/kevin/AppData/Local/Programs/Python/Python38-32/lib/site-packages/pandas/util/_decorators.py?line=306'>307</a>\u001b[0m         msg\u001b[39m.\u001b[39mformat(arguments\u001b[39m=\u001b[39marguments),\n\u001b[0;32m    <a href='file:///c%3A/Users/kevin/AppData/Local/Programs/Python/Python38-32/lib/site-packages/pandas/util/_decorators.py?line=307'>308</a>\u001b[0m         \u001b[39mFutureWarning\u001b[39;00m,\n\u001b[0;32m    <a href='file:///c%3A/Users/kevin/AppData/Local/Programs/Python/Python38-32/lib/site-packages/pandas/util/_decorators.py?line=308'>309</a>\u001b[0m         stacklevel\u001b[39m=\u001b[39mstacklevel,\n\u001b[0;32m    <a href='file:///c%3A/Users/kevin/AppData/Local/Programs/Python/Python38-32/lib/site-packages/pandas/util/_decorators.py?line=309'>310</a>\u001b[0m     )\n\u001b[1;32m--> <a href='file:///c%3A/Users/kevin/AppData/Local/Programs/Python/Python38-32/lib/site-packages/pandas/util/_decorators.py?line=310'>311</a>\u001b[0m \u001b[39mreturn\u001b[39;00m func(\u001b[39m*\u001b[39;49margs, \u001b[39m*\u001b[39;49m\u001b[39m*\u001b[39;49mkwargs)\n",
      "File \u001b[1;32mc:\\Users\\kevin\\AppData\\Local\\Programs\\Python\\Python38-32\\lib\\site-packages\\pandas\\io\\excel\\_base.py:364\u001b[0m, in \u001b[0;36mread_excel\u001b[1;34m(io, sheet_name, header, names, index_col, usecols, squeeze, dtype, engine, converters, true_values, false_values, skiprows, nrows, na_values, keep_default_na, na_filter, verbose, parse_dates, date_parser, thousands, comment, skipfooter, convert_float, mangle_dupe_cols, storage_options)\u001b[0m\n\u001b[0;32m    <a href='file:///c%3A/Users/kevin/AppData/Local/Programs/Python/Python38-32/lib/site-packages/pandas/io/excel/_base.py?line=361'>362</a>\u001b[0m \u001b[39mif\u001b[39;00m \u001b[39mnot\u001b[39;00m \u001b[39misinstance\u001b[39m(io, ExcelFile):\n\u001b[0;32m    <a href='file:///c%3A/Users/kevin/AppData/Local/Programs/Python/Python38-32/lib/site-packages/pandas/io/excel/_base.py?line=362'>363</a>\u001b[0m     should_close \u001b[39m=\u001b[39m \u001b[39mTrue\u001b[39;00m\n\u001b[1;32m--> <a href='file:///c%3A/Users/kevin/AppData/Local/Programs/Python/Python38-32/lib/site-packages/pandas/io/excel/_base.py?line=363'>364</a>\u001b[0m     io \u001b[39m=\u001b[39m ExcelFile(io, storage_options\u001b[39m=\u001b[39;49mstorage_options, engine\u001b[39m=\u001b[39;49mengine)\n\u001b[0;32m    <a href='file:///c%3A/Users/kevin/AppData/Local/Programs/Python/Python38-32/lib/site-packages/pandas/io/excel/_base.py?line=364'>365</a>\u001b[0m \u001b[39melif\u001b[39;00m engine \u001b[39mand\u001b[39;00m engine \u001b[39m!=\u001b[39m io\u001b[39m.\u001b[39mengine:\n\u001b[0;32m    <a href='file:///c%3A/Users/kevin/AppData/Local/Programs/Python/Python38-32/lib/site-packages/pandas/io/excel/_base.py?line=365'>366</a>\u001b[0m     \u001b[39mraise\u001b[39;00m \u001b[39mValueError\u001b[39;00m(\n\u001b[0;32m    <a href='file:///c%3A/Users/kevin/AppData/Local/Programs/Python/Python38-32/lib/site-packages/pandas/io/excel/_base.py?line=366'>367</a>\u001b[0m         \u001b[39m\"\u001b[39m\u001b[39mEngine should not be specified when passing \u001b[39m\u001b[39m\"\u001b[39m\n\u001b[0;32m    <a href='file:///c%3A/Users/kevin/AppData/Local/Programs/Python/Python38-32/lib/site-packages/pandas/io/excel/_base.py?line=367'>368</a>\u001b[0m         \u001b[39m\"\u001b[39m\u001b[39man ExcelFile - ExcelFile already has the engine set\u001b[39m\u001b[39m\"\u001b[39m\n\u001b[0;32m    <a href='file:///c%3A/Users/kevin/AppData/Local/Programs/Python/Python38-32/lib/site-packages/pandas/io/excel/_base.py?line=368'>369</a>\u001b[0m     )\n",
      "File \u001b[1;32mc:\\Users\\kevin\\AppData\\Local\\Programs\\Python\\Python38-32\\lib\\site-packages\\pandas\\io\\excel\\_base.py:1195\u001b[0m, in \u001b[0;36mExcelFile.__init__\u001b[1;34m(self, path_or_buffer, engine, storage_options)\u001b[0m\n\u001b[0;32m   <a href='file:///c%3A/Users/kevin/AppData/Local/Programs/Python/Python38-32/lib/site-packages/pandas/io/excel/_base.py?line=1190'>1191</a>\u001b[0m     ext \u001b[39m=\u001b[39m inspect_excel_format(\n\u001b[0;32m   <a href='file:///c%3A/Users/kevin/AppData/Local/Programs/Python/Python38-32/lib/site-packages/pandas/io/excel/_base.py?line=1191'>1192</a>\u001b[0m         content_or_path\u001b[39m=\u001b[39mpath_or_buffer, storage_options\u001b[39m=\u001b[39mstorage_options\n\u001b[0;32m   <a href='file:///c%3A/Users/kevin/AppData/Local/Programs/Python/Python38-32/lib/site-packages/pandas/io/excel/_base.py?line=1192'>1193</a>\u001b[0m     )\n\u001b[0;32m   <a href='file:///c%3A/Users/kevin/AppData/Local/Programs/Python/Python38-32/lib/site-packages/pandas/io/excel/_base.py?line=1193'>1194</a>\u001b[0m     \u001b[39mif\u001b[39;00m ext \u001b[39mis\u001b[39;00m \u001b[39mNone\u001b[39;00m:\n\u001b[1;32m-> <a href='file:///c%3A/Users/kevin/AppData/Local/Programs/Python/Python38-32/lib/site-packages/pandas/io/excel/_base.py?line=1194'>1195</a>\u001b[0m         \u001b[39mraise\u001b[39;00m \u001b[39mValueError\u001b[39;00m(\n\u001b[0;32m   <a href='file:///c%3A/Users/kevin/AppData/Local/Programs/Python/Python38-32/lib/site-packages/pandas/io/excel/_base.py?line=1195'>1196</a>\u001b[0m             \u001b[39m\"\u001b[39m\u001b[39mExcel file format cannot be determined, you must specify \u001b[39m\u001b[39m\"\u001b[39m\n\u001b[0;32m   <a href='file:///c%3A/Users/kevin/AppData/Local/Programs/Python/Python38-32/lib/site-packages/pandas/io/excel/_base.py?line=1196'>1197</a>\u001b[0m             \u001b[39m\"\u001b[39m\u001b[39man engine manually.\u001b[39m\u001b[39m\"\u001b[39m\n\u001b[0;32m   <a href='file:///c%3A/Users/kevin/AppData/Local/Programs/Python/Python38-32/lib/site-packages/pandas/io/excel/_base.py?line=1197'>1198</a>\u001b[0m         )\n\u001b[0;32m   <a href='file:///c%3A/Users/kevin/AppData/Local/Programs/Python/Python38-32/lib/site-packages/pandas/io/excel/_base.py?line=1199'>1200</a>\u001b[0m engine \u001b[39m=\u001b[39m config\u001b[39m.\u001b[39mget_option(\u001b[39mf\u001b[39m\u001b[39m\"\u001b[39m\u001b[39mio.excel.\u001b[39m\u001b[39m{\u001b[39;00mext\u001b[39m}\u001b[39;00m\u001b[39m.reader\u001b[39m\u001b[39m\"\u001b[39m, silent\u001b[39m=\u001b[39m\u001b[39mTrue\u001b[39;00m)\n\u001b[0;32m   <a href='file:///c%3A/Users/kevin/AppData/Local/Programs/Python/Python38-32/lib/site-packages/pandas/io/excel/_base.py?line=1200'>1201</a>\u001b[0m \u001b[39mif\u001b[39;00m engine \u001b[39m==\u001b[39m \u001b[39m\"\u001b[39m\u001b[39mauto\u001b[39m\u001b[39m\"\u001b[39m:\n",
      "\u001b[1;31mValueError\u001b[0m: Excel file format cannot be determined, you must specify an engine manually."
     ]
    }
   ],
   "source": [
    "reportLoc = r\"C:\\\\Users\\\\kevin\\\\Desktop\\\\NutribinsLLC-Joliet-Bimonthly.xlsx\"\n",
    "activityLoc = r\"C:\\\\Users\\\\kevin\\\\Desktop\\\\activityReoport(Nutribins LLC - 2022-08-01 - 2022-08-15).xlsx\"\n",
    "\n",
    "dReport = pd.read_excel(reportLoc)\n",
    "rows = dReport['Description'].tolist()\n",
    "for count, name in enumerate(rows):\n",
    "    rows[count] = name.lower()\n",
    "\n",
    "print(rows)\n",
    "\n",
    "def nameMatch(name):\n",
    "    for count in range(len(rows)):\n",
    "        if rows[count] == name.lower():\n",
    "            return count\n",
    "\n",
    "def dataCopy(dataframe, toPath, sheetName):\n",
    "    writer = pd.ExcelWriter(toPath, engine = 'xlsxwriter')\n",
    "\n",
    "    if sheetName in writer.sheets:\n",
    "        dataframe.to_excel(writer, startrow = writer.sheets[sheetName].max_row, index = False, header = False)\n",
    "    else:\n",
    "        dataframe.to_excel(writer, sheet_name = sheetName)\n",
    "\n",
    "    writer.save()\n",
    "    writer.close()"
   ]
  },
  {
   "cell_type": "code",
   "execution_count": null,
   "metadata": {},
   "outputs": [],
   "source": [
    "# Handling Pick per Pallet\n",
    "df = pd.read_excel(io=activityLoc, sheet_name='Pick Task')\n",
    "sum = df['PALLETPICKQTY'].sum()\n",
    "\n",
    "index = nameMatch('Handling Pick per Pallet')\n",
    "\n",
    "report['WISE Qty'][index] = sum\n",
    "dataCopy(df, reportLoc, 'PALLET PICK')"
   ]
  },
  {
   "cell_type": "code",
   "execution_count": null,
   "metadata": {},
   "outputs": [],
   "source": [
    "# Handling Pick per Case, WeightRangePerCase,0 - 30;\n",
    "df = pd.read_excel(io=activityLoc, sheet_name='Pick Task')\n",
    "df2 = df[(df['INDIVIDUAL ITEM WGT'] >= 0) & (df['INDIVIDUAL ITEM WGT'] <= 30)]\n",
    "sum = df2['CASEPICKQTY'].sum()\n",
    "\n",
    "index = nameMatch('Handling Pick per Case, WeightRangePerCase,0 - 30;')\n",
    "report['WISE Qty'][index] = sum"
   ]
  },
  {
   "cell_type": "code",
   "execution_count": null,
   "metadata": {},
   "outputs": [],
   "source": [
    "# handling order processing per order, ordertype,rg;outbound shipmethod,ltl;\n",
    "df = pd.read_excel(io=activityLoc, sheet_name='Order & Receipt')\n",
    "df2 = df[df['Ship Method'].isin(['LTL'])]\n",
    "df2 = df2[df2['RN/DN'].str.contains('DN', case=False, na=False)]\n",
    "count = df2['RN/DN'].count()\n",
    "\n",
    "index = nameMatch('handling order processing per order, ordertype,rg;outbound shipmethod,ltl;')\n",
    "report['WISE Qty'][index] = count"
   ]
  },
  {
   "cell_type": "code",
   "execution_count": null,
   "metadata": {},
   "outputs": [],
   "source": [
    "# handling pick per piece, weightrangepereach,over 30;\n",
    "df = pd.read_excel(io=activityLoc, sheet_name='Pick Task')\n",
    "df2 = df[df['INDIVIDUAL ITEM WGT'] > 30]\n",
    "sum = df2['PIECEPICKQTY'].sum()\n",
    "\n",
    "index = nameMatch('Handling Pick per Case, WeightRangePerCase,0 - 30;')\n",
    "report['WISE Qty'][index] = sum"
   ]
  },
  {
   "cell_type": "code",
   "execution_count": null,
   "metadata": {},
   "outputs": [],
   "source": [
    "# materials & other charges-pallet charge grade b\n",
    "df = pd.read_excel(io=activityLoc, sheet_name='Materials')\n",
    "df2 = df[df['ITEM DESCRIPTION'].str.contains('grade b', case=False, na=False)]\n",
    "sum = df2['QTY'].sum()\n",
    "\n",
    "index = nameMatch('materials & other charges-pallet charge grade b')\n",
    "report['WISE Qty'][index] = sum"
   ]
  },
  {
   "cell_type": "code",
   "execution_count": null,
   "metadata": {},
   "outputs": [],
   "source": [
    "# materials & other charges-stretch wrap\n",
    "df = pd.read_excel(io=activityLoc, sheet_name='Materials')\n",
    "df2 = df[df['ITEM DESCRIPTION'].str.contains('stretch wrap', case=False, na=False)]\n",
    "sum = df2['QTY'].sum()\n",
    "\n",
    "index = nameMatch('materials & other charges-pallet charge grade b')\n",
    "report['WISE Qty'][index] = sum"
   ]
  },
  {
   "cell_type": "code",
   "execution_count": null,
   "metadata": {},
   "outputs": [],
   "source": [
    "# storage income initial storage per pallet, locationtype,1 high;palletsize,none;\n",
    "df = pd.read_excel(io=activityLoc, sheet_name='Receive Task')\n",
    "sum = df['PALLET QTY'].sum()\n",
    "\n",
    "index = nameMatch('storage income initial storage per pallet, locationtype,1 high;palletsize,none;')\n",
    "report['WISE Qty'][index] = sum"
   ]
  }
 ],
 "metadata": {
  "interpreter": {
   "hash": "1d03afc445b1606cc3449d2018ab9f89a0c830c5a6debaae03701807a24653b7"
  },
  "kernelspec": {
   "display_name": "Python 3.8.5 32-bit",
   "language": "python",
   "name": "python3"
  },
  "language_info": {
   "codemirror_mode": {
    "name": "ipython",
    "version": 3
   },
   "file_extension": ".py",
   "mimetype": "text/x-python",
   "name": "python",
   "nbconvert_exporter": "python",
   "pygments_lexer": "ipython3",
   "version": "3.8.5"
  },
  "orig_nbformat": 4,
  "vscode": {
   "interpreter": {
    "hash": "c2d51cc5b3a75574d7fda1d537f2edd8699c1c88734b242975fe430a8f9439c2"
   }
  }
 },
 "nbformat": 4,
 "nbformat_minor": 2
}
