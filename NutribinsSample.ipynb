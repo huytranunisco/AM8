{
 "cells": [
  {
   "cell_type": "code",
   "execution_count": null,
   "metadata": {},
   "outputs": [],
   "source": [
    "import pandas as pd\n",
    "import numpy as np\n",
    "from openpyxl import load_workbook\n",
    "import BNPauto"
   ]
  },
  {
   "cell_type": "code",
   "execution_count": null,
   "metadata": {},
   "outputs": [],
   "source": [
    "billingAcc = input(\"Billing To (First Word of Customer): \")\n",
    "accName = input(\"Customer Name for Report: \")\n",
    "facility = input(\"Facility: \")\n",
    "startPeriod = input(\"Starting Period (MM/DD/YY): \")\n",
    "endPeriod = input(\"Ending Period (MM/DD/YY): \")\n",
    "user = input(\"User Name for Path: \")\n",
    "billCycle = input(\"Billing Cycle: \")"
   ]
  },
  {
   "cell_type": "markdown",
   "metadata": {},
   "source": []
  },
  {
   "cell_type": "code",
   "execution_count": null,
   "metadata": {},
   "outputs": [],
   "source": [
    "facility = BNPauto.exportHandle(billingAcc, facility, startPeriod, endPeriod, user)\n",
    "facility = facility.lower()\n",
    "facility = facility.capitalize()"
   ]
  },
  {
   "cell_type": "code",
   "execution_count": null,
   "metadata": {},
   "outputs": [],
   "source": [
    "reportLoc = BNPauto.invoiceToReport(user, accName, facility, billCycle)\n",
    "activityLoc = r\"C:\\\\Users\\\\kevin\\\\Documents\\\\AUTOM8\\\\Nutribins\\\\AR\\\\report aug.xlsx\""
   ]
  },
  {
   "cell_type": "code",
   "execution_count": null,
   "metadata": {},
   "outputs": [],
   "source": [
    "report = pd.read_excel(reportLoc)\n",
    "billingitems = report['Description'].tolist()\n",
    "for count, name in enumerate(billingitems):\n",
    "    billingitems[count] = name.lower()\n",
    "\n",
    "print(billingitems)\n",
    "\n",
    "book = load_workbook(reportLoc)\n",
    "writer = pd.ExcelWriter(reportLoc, engine = 'openpyxl')\n",
    "writer.book = book\n",
    "\n",
    "def dataCopy(dataframe, sheetName):\n",
    "    if sheetName in writer.sheets:\n",
    "        dataframe.to_excel(writer, sheet_name = sheetName,startrow = writer.sheets[sheetName].max_row, index = False, header = False)\n",
    "    else:\n",
    "        dataframe.to_excel(writer, sheet_name = sheetName, index = False)\n",
    "\n",
    "    writer.save()"
   ]
  },
  {
   "cell_type": "code",
   "execution_count": null,
   "metadata": {},
   "outputs": [],
   "source": [
    "# Handling Pick per Pallet\n",
    "def palletPick(arPath):\n",
    "    df = pd.read_excel(io=arPath, sheet_name='Pick Task')\n",
    "    sum = df['PALLETPICKQTY'].sum()\n",
    "\n",
    "    dataCopy(df, 'PALLET PICK')\n",
    "    return df, sum"
   ]
  },
  {
   "cell_type": "code",
   "execution_count": null,
   "metadata": {},
   "outputs": [],
   "source": [
    "# Handling Pick per Case, WeightRangePerCase,0 - 30;\n",
    "def pickCase_0_to_30(arPath):\n",
    "    df = pd.read_excel(io=arPath, sheet_name='Pick Task')\n",
    "    df2 = df[(df['INDIVIDUAL ITEM WGT'] >= 0) & (df['INDIVIDUAL ITEM WGT'] <= 30)]\n",
    "    sum = df2['CASEPICKQTY'].sum()\n",
    "\n",
    "    return df2, sum"
   ]
  },
  {
   "cell_type": "code",
   "execution_count": null,
   "metadata": {},
   "outputs": [],
   "source": [
    "# handling order processing per order, ordertype,rg;outbound shipmethod,ltl;\n",
    "def orderProcessingperOrder_RG_LTL(arPath):\n",
    "    df = pd.read_excel(io=arPath, sheet_name='Order & Receipt')\n",
    "    df2 = df[df['Ship Method'].isin(['LTL'])]\n",
    "    df2 = df2[df2['RN/DN'].str.contains('DN', case=False, na=False)]\n",
    "    count = df2['RN/DN'].count()\n",
    "\n",
    "    return df2, count"
   ]
  },
  {
   "cell_type": "code",
   "execution_count": null,
   "metadata": {},
   "outputs": [],
   "source": [
    "# handling pick per piece, weightrangepereach,over 30;\n",
    "def pickPiece_over30(arPath):\n",
    "    df = pd.read_excel(io=arPath, sheet_name='Pick Task')\n",
    "    df2 = df[df['INDIVIDUAL ITEM WGT'] > 30]\n",
    "    sum = df2['PIECEPICKQTY'].sum()\n",
    "\n",
    "    return df2, sum"
   ]
  },
  {
   "cell_type": "code",
   "execution_count": null,
   "metadata": {},
   "outputs": [],
   "source": [
    "# materials & other charges-pallet charge grade b\n",
    "def palletChargeGradeB(arPath):\n",
    "    df = pd.read_excel(io=arPath, sheet_name='Materials')\n",
    "    df2 = df[df['ITEM DESCRIPTION'].str.contains('grade b', case=False, na=False)]\n",
    "    sum = df2['QTY'].sum()\n",
    "\n",
    "    return df2, sum"
   ]
  },
  {
   "cell_type": "code",
   "execution_count": null,
   "metadata": {},
   "outputs": [],
   "source": [
    "# materials & other charges-stretch wrap\n",
    "def stretchWrap(arPath):\n",
    "    df = pd.read_excel(io=arPath, sheet_name='Materials')\n",
    "    df2 = df[df['ITEM DESCRIPTION'].str.contains('stretch wrap', case=False, na=False)]\n",
    "    sum = df2['QTY'].sum()\n",
    "\n",
    "    return df2, sum"
   ]
  },
  {
   "cell_type": "code",
   "execution_count": null,
   "metadata": {},
   "outputs": [],
   "source": [
    "# storage income initial storage per pallet, locationtype,1 high;palletsize,none;\n",
    "def initialStorage(arPath):\n",
    "    df = pd.read_excel(io=activityLoc, sheet_name='Receive Task')\n",
    "    sum = df['PALLET QTY'].sum()\n",
    "\n",
    "    return df, sum"
   ]
  },
  {
   "cell_type": "code",
   "execution_count": null,
   "metadata": {},
   "outputs": [],
   "source": [
    "# customized shipping documents\n",
    "def customizedShippingDocs(arPath, index):\n",
    "    df = pd.read_excel(io=arPath, sheet_name='Accessories')\n",
    "    df2 = df[df['DESCRIPTION'].str.contains('CUSTOMIZED SHIPPING DOCUMENTS', case=False, na=False)]\n",
    "    sum = df2['QTY'].sum()\n",
    "\n",
    "    return df2, sum"
   ]
  },
  {
   "cell_type": "code",
   "execution_count": null,
   "metadata": {},
   "outputs": [],
   "source": [
    "for index, item in enumerate(billingitems):\n",
    "    print(item)\n",
    "    if item == 'handling pick per pallet':\n",
    "        df, qty = palletPick(activityLoc)\n",
    "        report['WISE Qty'][index] = qty\n",
    "        dataCopy(df, 'PALLET PICK')\n",
    "    elif item == 'handling pick per case, weightrangepercase,0 - 30;':\n",
    "        df, qty = pickCase_0_to_30(activityLoc)\n",
    "        report['WISE Qty'][index] = qty\n",
    "        dataCopy(df, 'PICK PER CASE 0 - 30')\n",
    "    elif item == 'handling order processing per order, ordertype,rg;outbound shipmethod,ltl;':\n",
    "        df, qty = orderProcessingperOrder_RG_LTL(activityLoc)\n",
    "        report['WISE Qty'][index] = qty\n",
    "        dataCopy(df, 'HANDLING ORDER PROCESSING LTL')\n",
    "    elif item == 'handling pick per piece, weightrangepereach,over 30;':\n",
    "        df, qty = pickPiece_over30(activityLoc)\n",
    "        report['WISE Qty'][index] = qty\n",
    "        dataCopy(df, 'PICK PER PIECE OVER 30')\n",
    "    elif item == 'materials & other charges-pallet charge grade b' or item == 'accessorial charge grade b pallet':\n",
    "        df, qty = palletChargeGradeB(activityLoc)\n",
    "        report['WISE Qty'][index] = qty\n",
    "        dataCopy(df, 'GRADE B PALLET')\n",
    "    elif item == 'materials & other charges-stretch wrap' or item == 'accessorial charge stretch wrap':\n",
    "        df, qty = stretchWrap(activityLoc)\n",
    "        report['WISE Qty'][index] = qty\n",
    "        dataCopy(df, 'STRETCH WRAP')\n",
    "    elif item == 'storage income initial storage per pallet, locationtype,1 high;palletsize,none;':\n",
    "        df, qty = initialStorage(activityLoc)\n",
    "        report['WISE Qty'][index] = qty\n",
    "        dataCopy(df, 'INITIAL STORAGE')\n",
    "    elif item == 'handling offload per pallet, offloadtype,palletized;mixedmode,singlesku;':\n",
    "        df, qty = initialStorage(activityLoc)\n",
    "        report['WISE Qty'][index] = qty\n",
    "        dataCopy(df, 'HANDLING OFFLOAD PER PALLET')\n",
    "    elif item == 'customized shipping documents':\n",
    "        df, qty = customizedShippingDocs(activityLoc)\n",
    "        report['WISE Qty'][index] = qty\n",
    "        dataCopy(df, 'CUSTOMIZED SHIPPING DOC')\n",
    "\n",
    "report.to_excel(reportLoc, index=False)\n"
   ]
  },
  {
   "cell_type": "code",
   "execution_count": null,
   "metadata": {},
   "outputs": [],
   "source": []
  }
 ],
 "metadata": {
  "kernelspec": {
   "display_name": "Python 3.7.9 32-bit",
   "language": "python",
   "name": "python3"
  },
  "language_info": {
   "codemirror_mode": {
    "name": "ipython",
    "version": 3
   },
   "file_extension": ".py",
   "mimetype": "text/x-python",
   "name": "python",
   "nbconvert_exporter": "python",
   "pygments_lexer": "ipython3",
   "version": "3.7.9"
  },
  "orig_nbformat": 4,
  "vscode": {
   "interpreter": {
    "hash": "c2d51cc5b3a75574d7fda1d537f2edd8699c1c88734b242975fe430a8f9439c2"
   }
  }
 },
 "nbformat": 4,
 "nbformat_minor": 2
}
